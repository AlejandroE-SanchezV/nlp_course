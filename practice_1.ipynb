{
  "nbformat": 4,
  "nbformat_minor": 0,
  "metadata": {
    "colab": {
      "name": "practice_1.ipynb",
      "provenance": [],
      "authorship_tag": "ABX9TyNekefP51KBoKEfG1dJVPnJ",
      "include_colab_link": true
    },
    "kernelspec": {
      "name": "python3",
      "display_name": "Python 3"
    },
    "language_info": {
      "name": "python"
    }
  },
  "cells": [
    {
      "cell_type": "markdown",
      "metadata": {
        "id": "view-in-github",
        "colab_type": "text"
      },
      "source": [
        "<a href=\"https://colab.research.google.com/github/aMurryFly/nlp_course/blob/main/practice_1.ipynb\" target=\"_parent\"><img src=\"https://colab.research.google.com/assets/colab-badge.svg\" alt=\"Open In Colab\"/></a>"
      ]
    },
    {
      "cell_type": "markdown",
      "metadata": {
        "id": "ZeOJqzkT3BP6"
      },
      "source": [
        "# Práctica 1: Tokenización de corpus en subpalabras\n",
        "\n",
        "\n",
        "**Integrantes:**\n",
        "1. \n",
        "2. Murrieta Villegas Alfonso\n",
        "3. "
      ]
    },
    {
      "cell_type": "code",
      "metadata": {
        "id": "3bv-SFK63Aix"
      },
      "source": [
        ""
      ],
      "execution_count": null,
      "outputs": []
    }
  ]
}